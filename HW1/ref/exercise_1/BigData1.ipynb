{
 "cells": [
  {
   "cell_type": "markdown",
   "metadata": {},
   "source": [
    "### Assumptions:\n",
    "1. Collection is already opened. A function does not need to open a collection."
   ]
  },
  {
   "cell_type": "code",
   "execution_count": null,
   "metadata": {},
   "outputs": [],
   "source": [
    "import pymongo\n",
    "import datetime"
   ]
  },
  {
   "cell_type": "code",
   "execution_count": null,
   "metadata": {},
   "outputs": [],
   "source": [
    "from pymongo import MongoClient\n",
    "client = MongoClient()"
   ]
  },
  {
   "cell_type": "code",
   "execution_count": null,
   "metadata": {},
   "outputs": [],
   "source": [
    "db = client['stud28']"
   ]
  },
  {
   "cell_type": "code",
   "execution_count": null,
   "metadata": {},
   "outputs": [],
   "source": [
    "print db.collection_names(include_system_collections=False)"
   ]
  },
  {
   "cell_type": "code",
   "execution_count": null,
   "metadata": {},
   "outputs": [],
   "source": [
    "# creating new collection\n",
    "collection = db.test"
   ]
  },
  {
   "cell_type": "code",
   "execution_count": null,
   "metadata": {},
   "outputs": [],
   "source": [
    "# clean up the collection before start working\n",
    "db.test.drop()\n",
    "# db.restaurants.drop_index(\"grades.score\")"
   ]
  },
  {
   "cell_type": "code",
   "execution_count": null,
   "metadata": {},
   "outputs": [],
   "source": [
    "company = {'company_name':'TAU', 'company_description':'University'}\n",
    "add_company(company)"
   ]
  },
  {
   "cell_type": "code",
   "execution_count": null,
   "metadata": {},
   "outputs": [],
   "source": [
    "def add_company(company):\n",
    "    collection = db.test\n",
    "    #print collection.find_one({\"company_name\":company['company_name']})\n",
    "    # validation: only insert if the compant does not exist\n",
    "    if collection.find_one({\"company_name\":company['company_name']}) == None:\n",
    "        # insertion\n",
    "        company['num_of_positions'] = 0\n",
    "        # add jobs_list attribute\n",
    "        company['jobs_list'] = []\n",
    "        collection.insert_one(company)\n",
    "        print company['company_name'],\"was successfully added\"\n",
    "    else:\n",
    "        print\"Company is already exists in the system\""
   ]
  },
  {
   "cell_type": "code",
   "execution_count": null,
   "metadata": {},
   "outputs": [],
   "source": [
    "def add_job(job, company_name):\n",
    "    collection = db.test\n",
    "    # validation: only insert if there is an associated company\n",
    "    company_doc = collection.find_one({\"company_name\":company_name})\n",
    "    if company_doc == None:\n",
    "        print \"Company does not exist in the system\"\n",
    "    else:\n",
    "    # insertion\n",
    "        # add candidates_list attribute\n",
    "        job['candidates_list'] = []\n",
    "        # assign auto increment job id\n",
    "        job_id = company_doc['num_of_positions']\n",
    "        job[\"_id\"] = str(job_id +1)\n",
    "        # update the number of positions for this company\n",
    "        collection.update_many({\"company_name\":company_name},{\"$set\":{\"num_of_positions\":job_id+1}})\n",
    "        # update the jobs list for the company\n",
    "        collection.update_many({\"company_name\":company_name},{\"$addToSet\":{\"jobs_list\":job}})"
   ]
  },
  {
   "cell_type": "code",
   "execution_count": null,
   "metadata": {},
   "outputs": [],
   "source": [
    "job ={'job_name':'bi developer', 'location': 'Tel Aviv',\n",
    "      'skills':['python','big data','mongodb'],'status':'open','publish_date':'01-02-2019'}\n",
    "add_job(job, 'TAU')"
   ]
  },
  {
   "cell_type": "code",
   "execution_count": 1,
   "metadata": {},
   "outputs": [
    {
     "ename": "NameError",
     "evalue": "name 'collection' is not defined",
     "output_type": "error",
     "traceback": [
      "\u001b[1;31m---------------------------------------------------------------------------\u001b[0m",
      "\u001b[1;31mNameError\u001b[0m                                 Traceback (most recent call last)",
      "\u001b[1;32m<ipython-input-1-33b32129787a>\u001b[0m in \u001b[0;36m<module>\u001b[1;34m()\u001b[0m\n\u001b[1;32m----> 1\u001b[1;33m \u001b[1;32mprint\u001b[0m \u001b[0mcollection\u001b[0m\u001b[1;33m.\u001b[0m\u001b[0mfind_one\u001b[0m\u001b[1;33m(\u001b[0m\u001b[1;33m{\u001b[0m\u001b[1;34m\"company_name\"\u001b[0m\u001b[1;33m:\u001b[0m\u001b[1;34m'TAU'\u001b[0m\u001b[1;33m}\u001b[0m\u001b[1;33m)\u001b[0m\u001b[1;33m\u001b[0m\u001b[0m\n\u001b[0m",
      "\u001b[1;31mNameError\u001b[0m: name 'collection' is not defined"
     ]
    }
   ],
   "source": [
    "print collection.find_one({\"company_name\":'TAU'})"
   ]
  },
  {
   "cell_type": "code",
   "execution_count": null,
   "metadata": {},
   "outputs": [],
   "source": [
    "def application(candidate, application_time, job_id):\n",
    "    # from job_id to company?\n",
    "    company_name = 'TAU'\n",
    "    # validation: check that this email was not applied for this job\n",
    "    candidates_list = collection.find({\"company_name\":company_name, \"jobs_list._id\":job_id})\n",
    "    existing_emails = []\n",
    "    for i in candidates_list['jobs_list']:\n",
    "        print\"sdfsdf\", i\n",
    "        existing_emails.append(i['email'])\n",
    "    if candidate['email'] in existing_emails:\n",
    "        print \"The inserted email has already applied for this position\"\n",
    "    else:\n",
    "    #insert\n",
    "        #add the application time to the candidate\n",
    "        candidate[\"application_time\"] = application_time\n",
    "        collection.update_many({\"company_name\":company_name, \"jobs_list._id\":job_id},{\"$push\":{\"jobs_list.$.candidates_list\":candidate}})\n",
    "\n",
    "#     collection.update_many({\"company_name\":company_name, \"jobs_list._id\":job_id, \"jobs_list.$.candidates_list.email\":{\"$nin\": [candidate['email']]}},{\"$push\":{\"jobs_list.$.candidates_list\":candidate}})      "
   ]
  },
  {
   "cell_type": "code",
   "execution_count": null,
   "metadata": {},
   "outputs": [],
   "source": [
    "application({'candidate_name':'laura', 'email':'laura@gmail.com',\n",
    "'linkedin':'https://www.linkedin.com/in/laura/', 'skills':['python','sql']},\n",
    "'01-02-2019 15:00:00', '1')"
   ]
  },
  {
   "cell_type": "code",
   "execution_count": null,
   "metadata": {},
   "outputs": [],
   "source": [
    "print collection.find_one({\"company_name\":'TAU'})"
   ]
  },
  {
   "cell_type": "code",
   "execution_count": null,
   "metadata": {},
   "outputs": [],
   "source": [
    "print collection.find_one({\"company_name\":\"TAU\", \"jobs_list._id\":'1',\n",
    "                           \"jobs_list.1.candidates_list.email\":{\"$ne\": 'laura@gmail.com'}})"
   ]
  },
  {
   "cell_type": "code",
   "execution_count": null,
   "metadata": {},
   "outputs": [],
   "source": [
    "print collection.find_one({\"company_name\":\"TAU\",\"jobs_list._id\":'2', \"jobs_list.candidates_list.email\":{\"$ne\":\"laura@gmail.com\"}})"
   ]
  }
 ],
 "metadata": {
  "kernelspec": {
   "display_name": "Python 3",
   "language": "python",
   "name": "python3"
  },
  "language_info": {
   "codemirror_mode": {
    "name": "ipython",
    "version": 3
   },
   "file_extension": ".py",
   "mimetype": "text/x-python",
   "name": "python",
   "nbconvert_exporter": "python",
   "pygments_lexer": "ipython3",
   "version": "3.8.5"
  }
 },
 "nbformat": 4,
 "nbformat_minor": 2
}
