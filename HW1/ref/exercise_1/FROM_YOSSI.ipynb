{
 "cells": [
  {
   "cell_type": "code",
   "execution_count": null,
   "metadata": {},
   "outputs": [],
   "source": [
    "import pandas as pd\n",
    "import redis\n",
    "r = redis.StrictRedis(host='bdl1.eng.tau.ac.il', port=6379)\n",
    "r.flushdb() # Delete all keys of currently selected database instance.\n",
    "r.flushall() # Delete all keys of entire database. "
   ]
  },
  {
   "cell_type": "code",
   "execution_count": null,
   "metadata": {},
   "outputs": [],
   "source": [
    "import pymongo\n",
    "\n",
    "myclient = pymongo.MongoClient()\n",
    "\n",
    "#use database named \"organisation\"\n",
    "mydb = myclient[\"stud22\"]\n",
    "\n",
    "#use collection named \"testers\"\n",
    "mycol = mydb[\"website\"]"
   ]
  },
  {
   "cell_type": "markdown",
   "metadata": {},
   "source": [
    "#### Drop unnecessary collections"
   ]
  },
  {
   "cell_type": "code",
   "execution_count": null,
   "metadata": {},
   "outputs": [],
   "source": [
    "mydb.website.drop()\n",
    "mydb.website.job.drop()\n",
    "mydb.list_collection_names() # print collections list"
   ]
  },
  {
   "cell_type": "markdown",
   "metadata": {},
   "source": [
    "#### add_company operation"
   ]
  },
  {
   "cell_type": "code",
   "execution_count": null,
   "metadata": {},
   "outputs": [],
   "source": [
    "def add_company(company):\n",
    "    print(company)\n",
    "    # check the keys names:\n",
    "    if company.keys()[0] != 'company_name':\n",
    "        print('Please set company_name')\n",
    "    if company.keys()[1] != 'company_description':\n",
    "        print('Please set company_description')\n",
    "    if r.sismember('companies:names', company.values()[0]):\n",
    "        print('Company already exist')\n",
    "    else:\n",
    "        r.sadd('companies:names', company.values()[0]) ## add the company name to redis sets\n",
    "        mycol.insert_one(company) ## add the company to the collection"
   ]
  },
  {
   "cell_type": "markdown",
   "metadata": {
    "collapsed": true
   },
   "source": [
    "#### add_job operation"
   ]
  },
  {
   "cell_type": "code",
   "execution_count": null,
   "metadata": {},
   "outputs": [],
   "source": [
    "def add_job(job, company_name):\n",
    "    r.incr(company_name)  # increase the job id for company name\n",
    "    job_id = r.get(company_name) # get the job_id\n",
    "    r.set(company_name +':' + job_id, job['status']) # add the job status to redis string\n",
    "    job[\"job_id\"] = job_id # add the job_id to the job dict\n",
    "    result = mycol.update_many({\"company_name\": company_name}, {\"$push\":{\"job_list\":job}}) # add the job title to the collection"
   ]
  },
  {
   "cell_type": "markdown",
   "metadata": {},
   "source": [
    "#### add_application operation"
   ]
  },
  {
   "cell_type": "code",
   "execution_count": null,
   "metadata": {},
   "outputs": [],
   "source": [
    "def add_application(candidate, job_id, company_name):\n",
    "    print(job_id,company_name +':' + job_id)\n",
    "    if not (r.sismember(candidate['email'],company_name +':' + job_id)) and (r.get(company_name +':' + job_id) == 'open'):\n",
    "        r.sadd(candidate['email'],company_name +':' + job_id)\n",
    "        print('yes')\n",
    "        myquery = {'$and' : [{\"company_name\": company_name}, {\"job_list.job_id\" : job_id}]}\n",
    "        mycol.update_many(myquery, {\"$push\":{\"job_list.$.applications_list\": candidate}})\n",
    "        #mycol.update_many(myquery, {\"$push\":{\"applications_list\":\"YOSI77\"}}) # add the job title to the collection"
   ]
  },
  {
   "cell_type": "code",
   "execution_count": null,
   "metadata": {},
   "outputs": [],
   "source": [
    "def update_job_status(company_name, job_id, new_status):\n",
    "    r.set(company_name +':' + job_id, new_status) # update the job status to the redis string\n",
    "    myquery = {'$and' : [{\"company_name\": company_name}, {\"job_list.job_id\" : job_id}]}\n",
    "    mycol.update_one(myquery, {\"$set\": {\"job_list.$.status\": new_status},\"$currentDate\": {\"job_list.$.lastModified\": True}})\n",
    "    #mycol.update_many(myquery, {\"$push\":{\"applications_list\":\"YOSI77\"}}) # add the job title to the collection"
   ]
  },
  {
   "cell_type": "code",
   "execution_count": null,
   "metadata": {},
   "outputs": [],
   "source": [
    "def show_number_of_jobs(location, job_title):\n",
    "    myquery = {'$and' : [{\"job_list.location\" : location}, {\"job_list.job_title\" : job_title}, {\"job_list.status\" : \"open\"}]}\n",
    "    result = mycol.count(myquery)\n",
    "    print(\"Number of open \"+job_title+\" positions in \"+location+\" is\", result)"
   ]
  },
  {
   "cell_type": "code",
   "execution_count": null,
   "metadata": {},
   "outputs": [],
   "source": [
    "def show_candidates(company_name, job_id):\n",
    "    data = mycol.find_one({\"company_name\": company_name})['job_list']\n",
    "    for x in data:\n",
    "        if x['job_id'] == job_id:\n",
    "            app_list = x['applications_list']\n",
    "            requirements = x['requirements']\n",
    "    col = [\"Email\", \"number_of_matches\"]\n",
    "    df = pd.DataFrame(columns=col)\n",
    "    for x in app_list:\n",
    "        num_matches = len(set(x['skills']) & set(requirements))\n",
    "        row = {\"Email\":x['email'],\"number_of_matches\":num_matches}\n",
    "        df = df.append(row,ignore_index=True)\n",
    "        df = df.sort_values(by=['number_of_matches'],ascending=False)\n",
    "    print(df.Email)"
   ]
  },
  {
   "cell_type": "code",
   "execution_count": null,
   "metadata": {},
   "outputs": [],
   "source": [
    "def count_jobs_by_date():\n",
    "    aggregation_function = mycol.aggregate([\n",
    "    {\"$unwind\":\"$job_list\"},\n",
    "    {\"$group\": {\"_id\": \"$job_list.publish_date\", \"open_jobs\": {\"$sum\": 1}}}\n",
    "      \n",
    "    ])\n",
    "    col = [\"Open\", \"Close\"]\n",
    "    df = pd.DataFrame(columns=col, index=pd.date_range(start='1/1/2020', end='1/08/2020'))\n",
    "\n",
    "    for i in aggregation_function:\n",
    "        df.loc[i[\"_id\"],\"Open\"] = i[\"open_jobs\"]\n",
    "\n",
    "    aggregation_function = mycol.aggregate([\n",
    "    {\"$unwind\":\"$job_list\"},\n",
    "    {\"$match\":{\"job_list.status\":\"close\"}},\n",
    "    {\"$group\": {\"_id\": \"$job_list.lastModified\", \"close_jobs\": {\"$sum\": 1}}}\n",
    "      \n",
    "    ])\n",
    "\n",
    "    for i in aggregation_function:\n",
    "        df.loc[i[\"_id\"],\"Close\"] = i[\"close_jobs\"]\n",
    "    \n",
    "    df = df.fillna(0)\n",
    "    df = df.assign(Open_jobs=df.Open.cumsum())\n",
    "    df = df.assign(Close_jobs=df.Close.cumsum())\n",
    "    df = df.drop(columns=[\"Open\",\"Close\"])\n",
    "    print(df)"
   ]
  },
  {
   "cell_type": "code",
   "execution_count": null,
   "metadata": {},
   "outputs": [],
   "source": [
    "company1 = {'company_name':'TAU', 'company_description':'University'}\n",
    "job1 = {'job_title':'bi developers', 'location': 'Tel Aviv',\n",
    "'requirements':['python','big data','mongodb'],\n",
    "'status':'open','publish_date':'01-02-2020'}\n",
    "application1 = {'candidate_name':'laura', 'email':'laura@gmail.com',\n",
    "'linkedin':'https://www.linkedin.com/in/laura/', \"skills\": ['python','sql'],\"application_date\":\n",
    "'01-02-2020 15:00:00'}"
   ]
  },
  {
   "cell_type": "code",
   "execution_count": null,
   "metadata": {},
   "outputs": [],
   "source": [
    "company2 = {'company_name':'ELBIT', 'company_description':'University'}\n",
    "job2 = {'job_title':'mechanical engineering', 'location': 'Rishon Lezion',\n",
    "'requirements':['python','big data','mongodb'],\n",
    "'status':'open','publish_date':'01-02-2020'}\n",
    "application2 = {'candidate_name':'yosi', 'email':'yosimzd2@gmail.com',\n",
    "'linkedin':'https://www.linkedin.com/in/laura/', \"skills\": ['python','sql','simulation'],\"application_date\":\n",
    "'01-02-2020 16:00:00'}"
   ]
  },
  {
   "cell_type": "code",
   "execution_count": null,
   "metadata": {},
   "outputs": [],
   "source": [
    "job3 = {'job_title':'mechanical engineering2', 'location': 'Rishon Lezion',\n",
    "'requirements':['python','big data','mongodb'],\n",
    "'status':'open','publish_date':'01-05-2020'}\n",
    "add_job(job3.copy(), 'TAU')"
   ]
  },
  {
   "cell_type": "code",
   "execution_count": null,
   "metadata": {},
   "outputs": [],
   "source": [
    "application3 = {'candidate_name':'yosi', 'email':'nurit@gmail.com',\n",
    "'linkedin':'https://www.linkedin.com/in/laura/', \"skills\": ['python','big data','mongodb'],\"application_date\":\n",
    "'01-02-2020 16:00:00'}"
   ]
  },
  {
   "cell_type": "code",
   "execution_count": null,
   "metadata": {},
   "outputs": [],
   "source": [
    "application4 = {'candidate_name':'nurit', 'email':'nura@gmail.com',\n",
    "'linkedin':'https://www.linkedin.com/in/laura/', \"skills\": ['python','big data'],\"application_date\":\n",
    "'01-02-2020 16:00:00'}"
   ]
  },
  {
   "cell_type": "code",
   "execution_count": null,
   "metadata": {},
   "outputs": [],
   "source": []
  },
  {
   "cell_type": "markdown",
   "metadata": {},
   "source": [
    "### count_candidates_by_job (for learning)"
   ]
  },
  {
   "cell_type": "code",
   "execution_count": null,
   "metadata": {},
   "outputs": [],
   "source": [
    "# test:\n",
    "import time\n",
    "import datetime\n",
    "date_string = \"01/12/2000\"\n",
    "date = datetime.datetime.strptime(date_string, \"%d/%m/%Y\")\n",
    "time.mktime(datetime.datetime.strptime(s, \"%d/%m/%Y\").timetuple())"
   ]
  },
  {
   "cell_type": "code",
   "execution_count": null,
   "metadata": {},
   "outputs": [],
   "source": [
    "# test:\n",
    "date_string = \"01/12/2000\"\n",
    "date = datetime.datetime.strptime(date_string, \"%d/%m/%Y\")#+datetime.timedelta(days=1)\n",
    "date"
   ]
  },
  {
   "cell_type": "code",
   "execution_count": null,
   "metadata": {},
   "outputs": [],
   "source": [
    "# test:\n",
    "now = datetime.datetime.now()\n",
    "last_30_days = now-datetime.timedelta(days=30)\n",
    "print(\"last_30_days =\", last_30_days)\n",
    "time.mktime(now.timetuple())"
   ]
  },
  {
   "cell_type": "markdown",
   "metadata": {},
   "source": [
    "### count_candidates_by_job function (not completed)"
   ]
  },
  {
   "cell_type": "code",
   "execution_count": null,
   "metadata": {},
   "outputs": [],
   "source": [
    "# count_candidates_by_job():\n",
    "import time\n",
    "import datetime\n",
    "date_string = \"09/05/2021\" # example date \n",
    "for i in range(50): # create for example 50 applications \n",
    "    date = datetime.datetime.strptime(date_string, \"%d/%m/%Y\") + datetime.timedelta(days=-i)\n",
    "    time_step_val = time.mktime(date.timetuple())\n",
    "    r.zadd('TAU:1', time_step_val, date)\n",
    "    #print(time_step_val)\n",
    "# find the last application during the last 30 days\n",
    "now = datetime.datetime.now()\n",
    "last_30_days = now-datetime.timedelta(days=30)\n",
    "r.zrangebyscore('TAU:1', time.mktime(last_30_days.timetuple()), time.mktime(now.timetuple()))"
   ]
  },
  {
   "cell_type": "code",
   "execution_count": null,
   "metadata": {},
   "outputs": [],
   "source": []
  },
  {
   "cell_type": "code",
   "execution_count": null,
   "metadata": {},
   "outputs": [],
   "source": []
  },
  {
   "cell_type": "code",
   "execution_count": null,
   "metadata": {},
   "outputs": [],
   "source": [
    "add_company(company1.copy())\n",
    "add_company(company2.copy())"
   ]
  },
  {
   "cell_type": "code",
   "execution_count": null,
   "metadata": {},
   "outputs": [],
   "source": [
    "add_job(job1.copy(), 'TAU')\n",
    "add_job(job2.copy(), 'ELBIT')"
   ]
  },
  {
   "cell_type": "code",
   "execution_count": null,
   "metadata": {},
   "outputs": [],
   "source": [
    "add_application(application1, \"1\", \"TAU\")\n",
    "add_application(application2, \"1\", \"ELBIT\")\n",
    "add_application(application3, \"1\", \"TAU\")\n",
    "add_application(application4, \"1\", \"TAU\")"
   ]
  },
  {
   "cell_type": "code",
   "execution_count": null,
   "metadata": {},
   "outputs": [],
   "source": [
    "location = \"Rishon Lezion\"\n",
    "job_title = \"mechanical engineering\"\n",
    "show_number_of_jobs(location, job_title)"
   ]
  },
  {
   "cell_type": "code",
   "execution_count": null,
   "metadata": {},
   "outputs": [],
   "source": [
    "company_name = \"TAU\"\n",
    "job_id=\"1\"\n",
    "show_candidates(company_name, job_id)"
   ]
  },
  {
   "cell_type": "code",
   "execution_count": null,
   "metadata": {},
   "outputs": [],
   "source": [
    "update_job_status(\"TAU\", '1', \"close\")"
   ]
  },
  {
   "cell_type": "code",
   "execution_count": null,
   "metadata": {},
   "outputs": [],
   "source": []
  },
  {
   "cell_type": "code",
   "execution_count": null,
   "metadata": {},
   "outputs": [],
   "source": []
  }
 ],
 "metadata": {
  "kernelspec": {
   "display_name": "Python 3",
   "language": "python",
   "name": "python3"
  },
  "language_info": {
   "codemirror_mode": {
    "name": "ipython",
    "version": 3
   },
   "file_extension": ".py",
   "mimetype": "text/x-python",
   "name": "python",
   "nbconvert_exporter": "python",
   "pygments_lexer": "ipython3",
   "version": "3.8.5"
  }
 },
 "nbformat": 4,
 "nbformat_minor": 2
}
