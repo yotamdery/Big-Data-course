{
 "cells": [
  {
   "cell_type": "markdown",
   "metadata": {},
   "source": [
    "# Assumptions:\n",
    "1. Collection is already opened. A function does not need to open a collection.\n",
    "2. Job_id index will start from 0.\n",
    "\n",
    "3. Data Model will be:\n",
    "   \n",
    "   MongoDB - \n",
    "   Nested company object, containing jobs_list as an attribute.\n",
    "   For each job, the candidates_list will also be a nested attribute.\n",
    "   \n",
    "   Job_id will be unique for job (and as a result uniqe for comapny by definition)\n",
    "   \n",
    "   Redis - \n",
    "   To imrove the performance, 4 different calcualtions will be out sourced into redis.\n",
    "   \n",
    "   a. storing the next Job_id index.\n",
    "   \n",
    "   b. storing the mapping between job_id and its company name.\n",
    "   \n",
    "   c. storing the mapping between job_id and the applied candidates' emails (redis set).\n",
    "   \n",
    "   d. storing the mapping between candidate's email and the comapnies it has been applied for (sorted set based on the date).\n",
    "   \n",
    "4. For Company document we add attribute Number of Jobs.\n",
    "   \n"
   ]
  },
  {
   "cell_type": "markdown",
   "metadata": {},
   "source": [
    "# Import:"
   ]
  },
  {
   "cell_type": "code",
   "execution_count": 1,
   "metadata": {
    "collapsed": true
   },
   "outputs": [],
   "source": [
    "import pymongo\n",
    "import time\n",
    "import datetime\n",
    "import redis \n",
    "import pandas as pd\n",
    "import numpy as np\n",
    "from pymongo import MongoClient"
   ]
  },
  {
   "cell_type": "markdown",
   "metadata": {},
   "source": [
    "# Functions:"
   ]
  },
  {
   "cell_type": "code",
   "execution_count": 2,
   "metadata": {
    "collapsed": true
   },
   "outputs": [],
   "source": [
    "def add_company(company):\n",
    "    #print collection.find_one({\"company_name\":company['company_name']})\n",
    "    # validation: only insert if the company does not exist\n",
    "    if collection.find_one({\"company_name\":company['company_name']}) == None:\n",
    "        # insertion\n",
    "        # add jobs_list attribute\n",
    "        company['jobs_list'] = []\n",
    "        company['num_of_jobs'] = 0\n",
    "        collection.insert_one(company)\n",
    "        print company['company_name'],\"was successfully added\"\n",
    "    else:\n",
    "        print\"Company is already exists in the system\"\n",
    "\n"
   ]
  },
  {
   "cell_type": "code",
   "execution_count": 3,
   "metadata": {
    "collapsed": true
   },
   "outputs": [],
   "source": [
    "def add_job(job, company_name):\n",
    "    # validation: only insert if there is an associated company\n",
    "    company_doc = collection.find_one({\"company_name\":company_name})\n",
    "    if company_doc == None:\n",
    "        print \"Company does not exist in the system\"\n",
    "    else:\n",
    "    # insertion\n",
    "        # add candidates_list attribute\n",
    "        job['candidates_list'] = []\n",
    "        # assign auto incre ment job id\n",
    "        jobID = r.get('stud28:{}'.format('job_id'))\n",
    "        job[\"job_id\"] = jobID\n",
    "                \n",
    "        # add job_id to company mapping on reddis;\n",
    "        r.set('stud28:{}'.format(jobID), company_name)\n",
    "        # update the number of positions in reddis\n",
    "        num_positions = int(r.get('stud28:{}'.format('job_id'))) + 1\n",
    "        r.set('stud28:{}'.format('job_id'),num_positions)\n",
    "                \n",
    "        # update the jobs list for the company\n",
    "        collection.update_many({\"company_name\":company_name},{\"$addToSet\":{\"jobs_list\":job}})\n",
    "        collection.update_many({\"company_name\":company_name},{\"$inc\":{\"num_of_jobs\":1}})"
   ]
  },
  {
   "cell_type": "code",
   "execution_count": 4,
   "metadata": {
    "collapsed": true
   },
   "outputs": [],
   "source": [
    "def application(candidate, application_time, job_id):\n",
    "    # find the relevant job based on job_id\n",
    "    company_name = r.get('stud28:{}'.format(job_id))\n",
    "    \n",
    "    # validation: check that this email was not applied for this job\n",
    "    # Return a boolean indicating if value is a member of set name\n",
    "    if r.sismember('stud28:job{}_e'.format(job_id), candidate['email']):\n",
    "        print \"Candidate already applied for this position\"\n",
    "        \n",
    "    else:\n",
    "    #insert\n",
    "        #add the application time to the candidate\n",
    "        candidate[\"application_time\"] = pd.to_datetime(application_time,dayfirst=True)\n",
    "        collection.update_one({\"company_name\":company_name, \"jobs_list.job_id\":job_id},{\"$push\":{\"jobs_list.$.candidates_list\":candidate}})\n",
    "        # Adding to redis the candidate's emaill to the job object\n",
    "        r.sadd('stud28:job{}_e'.format(job_id), candidate['email'])\n",
    "        \n",
    "        # Adding job application to the redis object\n",
    "        # Note <time.mktime(pd.to_datetime(application_time).timetuple())> will add the time as a score\n",
    "        r.zadd('stud28:{}'.format(candidate['email']),int(time.mktime(pd.to_datetime(application_time,dayfirst=True).timetuple())),company_name)"
   ]
  },
  {
   "cell_type": "code",
   "execution_count": 5,
   "metadata": {
    "collapsed": true
   },
   "outputs": [],
   "source": [
    "def show_latest_applications(k, candidate_email):\n",
    "    # returning relevant distinct companies from candidate sorted set in redis:\n",
    "    company_list =  r.zrange('stud28:{}'.format(candidate_email), 0, k, desc=True, withscores=False) \n",
    "    return company_list"
   ]
  },
  {
   "cell_type": "code",
   "execution_count": 6,
   "metadata": {
    "collapsed": true
   },
   "outputs": [],
   "source": [
    "def show_candidates(job_id, skills):\n",
    "    # aggregate function - returns email from subdocuments of the relevant job_id that matches the skills criteria\n",
    "    emails = collection.aggregate([\n",
    "      { \"$unwind\": \"$jobs_list\" },\n",
    "      { \"$match\": { \"jobs_list.job_id\": str(job_id) }},\n",
    "      { \"$unwind\": \"$jobs_list.candidates_list\" },\n",
    "      { \"$match\": { \"jobs_list.candidates_list.skills\":{\"$all\":skills }} },\n",
    "      { \"$project\": {\"_id\": '$jobs_list.candidates_list.email'}},\n",
    "    ]\n",
    "    )\n",
    "    return pd.DataFrame(list(emails)).rename(columns={\"_id\":\"Candidates' Email\"})"
   ]
  },
  {
   "cell_type": "code",
   "execution_count": 7,
   "metadata": {},
   "outputs": [],
   "source": [
    "def count_jobs_by_company():\n",
    "    if pd.DataFrame(list(collection.find())).empty:\n",
    "        return \"No companies with open Jobs\"\n",
    "    return pd.DataFrame(list(collection.find()))[['company_name','num_of_jobs']].copy().rename(\n",
    "    columns= {\"company_name\":\"Company\", \"num_of_jobs\": \"Number of Jobs\"})\n",
    "    "
   ]
  },
  {
   "cell_type": "code",
   "execution_count": 28,
   "metadata": {
    "collapsed": true
   },
   "outputs": [],
   "source": [
    "def count_candidates_by_job():\n",
    "    thershold = datetime.datetime.today() - datetime.timedelta(days=30) # setting thershold (30 days) for agg. func.\n",
    "    # aggregate function - returns no. of applications from subdocuments of each job\n",
    "    a = collection.aggregate([\n",
    "      { \"$unwind\": \"$jobs_list\" },\n",
    "      { \"$match\": { \"jobs_list.candidates_list.application_time\":{\"$gte\": thershold } }},\n",
    "      { \"$unwind\": \"$jobs_list.candidates_list\" },\n",
    "      { \"$project\": {\"_id\": '$jobs_list.job_id', \"time\": \"$jobs_list.candidates_list.application_time\"}},\n",
    "      { \"$group\": {\"_id\": '$_id', \"num_of_candidates\": {'$sum': 1} }}\n",
    "\n",
    "    ]\n",
    "    )\n",
    "    candidates = pd.DataFrame(list(a))\n",
    "    if candidates.empty:\n",
    "        return \"No jobs with applications during the last 30 days\"\n",
    "    return candidates.rename(columns={'_id':\"Job ID\",\"num_of_candidates\": \"Number of Candidates\"})"
   ]
  },
  {
   "cell_type": "code",
   "execution_count": 16,
   "metadata": {
    "collapsed": true
   },
   "outputs": [],
   "source": [
    "def recovery():\n",
    "    # job_id\n",
    "    recover_id = collection.aggregate([\n",
    "      { \"$unwind\": \"$jobs_list\" },\n",
    "      { \"$project\": {\"_id\": { \"$max\": \"$jobs_list.job_id\"}}},\n",
    "\n",
    "    ]\n",
    "    )\n",
    "    job_id = pd.DataFrame(list(recover_id)).max().values # get the latest job_id given in the db\n",
    "    if job_id.size == 0:\n",
    "        r.set('stud28:{}'.format('job_id'), 0) \n",
    "        return\n",
    "    else:\n",
    "        r.set('stud28:{}'.format('job_id'), int(job_id[0]) + 1)\n",
    "        \n",
    "    # map job_id -> company\n",
    "    map_J_C = collection.aggregate([\n",
    "      { \"$unwind\": \"$jobs_list\" },\n",
    "      { \"$project\": {\"_id\": \"$jobs_list.job_id\",\"company\":\"$company_name\"}}\n",
    "\n",
    "    ]\n",
    "    )\n",
    "    job_company_df = pd.DataFrame(list(map_J_C))\n",
    "    if not job_company_df.empty:\n",
    "        job_company_df['_id'] = job_company_df['_id'].apply(lambda r: \"stud28:{}\".format(r)) # creating the key\n",
    "        job_company_dict = job_company_df.set_index('_id').T.to_dict('records')[0]\n",
    "        r.mset(job_company_dict) # insert to Redis\n",
    "        \n",
    "    # job_id_e -> set(emails)\n",
    "    email_set = collection.aggregate([\n",
    "      { \"$unwind\": \"$jobs_list\" },\n",
    "      { \"$unwind\": \"$jobs_list.candidates_list\" },\n",
    "      { \"$project\": {\"_id\": \"$jobs_list.job_id\",\"email\":\"$jobs_list.candidates_list.email\"}}\n",
    "\n",
    "    ]\n",
    "    )\n",
    "    email_set = pd.DataFrame(list(email_set))\n",
    "    email_set = email_set.groupby('_id')['email'].apply(list).to_frame()\n",
    "    email_set['job_id'] = email_set.index\n",
    "    email_set['job_id'] = email_set['job_id'].apply(lambda r: 'stud28:job{}_e'.format(r) ) # applying key format for Redis\n",
    "    email_set = email_set.set_index('job_id').T.to_dict('records')[0] # converting to dict (key,email set)\n",
    "    # insert to Redis each value at a time:\n",
    "    for k,v in email_set.items():\n",
    "        for e in v:\n",
    "            r.sadd(k,e)\n",
    "            \n",
    "    # candidate -> sorted set (company,date)\n",
    "    company_date = collection.aggregate([\n",
    "          { \"$unwind\": \"$jobs_list\" },\n",
    "          { \"$unwind\": \"$jobs_list.candidates_list\" },\n",
    "          { \"$project\": {\"_id\": \"$jobs_list.candidates_list.email\",\"company\":\"$company_name\",\"date\":\"$jobs_list.candidates_list.application_time\"}}\n",
    "\n",
    "        ]\n",
    "        )\n",
    "    email_sorted_set = pd.DataFrame(list(company_date))\n",
    "    email_sorted_set = email_sorted_set.groupby(['_id','company'],as_index=False)['date'].max() # taking the latest application sate for each company\n",
    "    email_sorted_set['date'] = email_sorted_set['date'].apply(lambda r:int(time.mktime(r.timetuple())))  # convert datetime to float\n",
    "    # insert to Redis:\n",
    "    for k,v,score in email_sorted_set.values:\n",
    "        r.zadd('stud28:{}'.format(k),score,v)\n"
   ]
  },
  {
   "cell_type": "code",
   "execution_count": 36,
   "metadata": {
    "collapsed": true
   },
   "outputs": [],
   "source": [
    "def execute():\n",
    "    recovery()\n",
    "    add_company({'company_name':'TAU', 'company_description':'University'})\n",
    "    add_job({'job_name':'bi developer', 'location': 'Tel Aviv',\n",
    "             'skills':['python','big data','mongodb'],'status':'open',\n",
    "             'publish_date':'01-02-2019'},'TAU')\n",
    "    application({'candidate_name':'laura', 'email':'laura@gmail.com',\n",
    "                 'linkedin':'https://www.linkedin.com/in/laura/', \"skills\": ['python','sql']},\n",
    "                '01-02-2019 15:00:00', '0') \n",
    "    print \"Latest Applications:\"\n",
    "    print(show_latest_applications(10, 'laura@gmail.com'))\n",
    "    print\n",
    "    print \"Candidates:\"\n",
    "    print show_candidates('0', ['python','sql'])\n",
    "    print\n",
    "    print \"Report 1 - Jobs by Company:\"\n",
    "    print count_jobs_by_company()\n",
    "    print\n",
    "    print \"Report 2 - Candidates by Job:\"\n",
    "    print count_candidates_by_job()\n",
    "               "
   ]
  },
  {
   "cell_type": "markdown",
   "metadata": {},
   "source": [
    "# Establishing Connections:"
   ]
  },
  {
   "cell_type": "code",
   "execution_count": 42,
   "metadata": {
    "collapsed": true
   },
   "outputs": [],
   "source": [
    "r = redis.StrictRedis(host='bdl1.eng.tau.ac.il', port=6379)  # creating reddis connection\n",
    "client = MongoClient() # creating MongoDB connection\n",
    "db = client['stud28']\n",
    "# clean up the collection before start working\n",
    "db.hm1_stud28.drop()\n",
    "# creating new collection\n",
    "collection = db.hm1_stud28"
   ]
  },
  {
   "cell_type": "code",
   "execution_count": 43,
   "metadata": {},
   "outputs": [
    {
     "data": {
      "text/plain": [
       "True"
      ]
     },
     "execution_count": 43,
     "metadata": {},
     "output_type": "execute_result"
    }
   ],
   "source": [
    "r.flushall()"
   ]
  },
  {
   "cell_type": "markdown",
   "metadata": {},
   "source": [
    "# Execute:"
   ]
  },
  {
   "cell_type": "code",
   "execution_count": 44,
   "metadata": {},
   "outputs": [
    {
     "name": "stdout",
     "output_type": "stream",
     "text": [
      "TAU was successfully added\n",
      "Latest Applications:\n",
      "['TAU']\n",
      "\n",
      "Candidates:\n",
      "  Candidates' Email\n",
      "0   laura@gmail.com\n",
      "\n",
      "Report 1 - Jobs by Company:\n",
      "  Company  Number of Jobs\n",
      "0     TAU               1\n",
      "\n",
      "Report 2 - Candidates by Job:\n",
      "No jobs with applications during the last 30 days\n"
     ]
    }
   ],
   "source": [
    "execute()"
   ]
  },
  {
   "cell_type": "markdown",
   "metadata": {},
   "source": [
    "# Checks:"
   ]
  },
  {
   "cell_type": "code",
   "execution_count": null,
   "metadata": {
    "collapsed": true
   },
   "outputs": [],
   "source": [
    "# #The following are part of the checks and inputs we used to validate our data model:\n",
    "# company = {'company_name':'TAU', 'company_description':'University'}\n",
    "# add_company(company)\n",
    "\n",
    "# company = {'company_name':'BGU', 'company_description':'University'}\n",
    "# add_company(company)\n",
    "\n",
    "# job ={'job_name':'bi developer', 'location': 'Tel Aviv',\n",
    "#       'skills':['python','big data','mongodb'],'status':'open','publish_date':'01-02-2019'}\n",
    "# add_job(job, 'TAU')\n",
    "\n",
    "# print collection.find_one({\"company_name\":'TAU'})\n",
    "\n",
    "# job ={'job_name':'bi developer_2', 'location': 'Tel Aviv',\n",
    "#       'skills':['python','big data','mongodb'],'status':'open','publish_date':'01-02-2019'}\n",
    "# add_job(job, 'TAU')\n",
    "\n",
    "# job ={'job_name':'bi developer', 'location': 'Tel Aviv',\n",
    "#       'skills':['python','big data','mongodb'],'status':'open','publish_date':'01-02-2019'}\n",
    "# add_job(job, 'BGU')\n",
    "\n",
    "# r.get('stud28:{}'.format(2))\n",
    "\n",
    "# application({'candidate_name':'laura', 'email':'laura@gmail.com',\n",
    "# 'linkedin':'https://www.linkedin.com/in/laura/', 'skills':['python','sql']},\n",
    "# '01-05-2019 15:00:00', '1')\n",
    "\n",
    "# application({'candidate_name':'laura', 'email':'laura@gmail.com',\n",
    "# 'linkedin':'https://www.linkedin.com/in/laura/', 'skills':['python','sql']},\n",
    "# '01-04-2019 15:00:00', '2')\n",
    "\n",
    "# print collection.find_one({\"company_name\":'TAU'})\n",
    "\n",
    "# show_latest_applications(2, 'laura@gmail.com')\n"
   ]
  }
 ],
 "metadata": {
  "kernelspec": {
   "display_name": "Python 3",
   "language": "python",
   "name": "python3"
  },
  "language_info": {
   "codemirror_mode": {
    "name": "ipython",
    "version": 3
   },
   "file_extension": ".py",
   "mimetype": "text/x-python",
   "name": "python",
   "nbconvert_exporter": "python",
   "pygments_lexer": "ipython3",
   "version": "3.8.5"
  },
  "toc": {
   "base_numbering": 1,
   "nav_menu": {},
   "number_sections": true,
   "sideBar": true,
   "skip_h1_title": false,
   "title_cell": "Table of Contents",
   "title_sidebar": "Contents",
   "toc_cell": false,
   "toc_position": {},
   "toc_section_display": true,
   "toc_window_display": false
  },
  "varInspector": {
   "cols": {
    "lenName": 16,
    "lenType": 16,
    "lenVar": 40
   },
   "kernels_config": {
    "python": {
     "delete_cmd_postfix": "",
     "delete_cmd_prefix": "del ",
     "library": "var_list.py",
     "varRefreshCmd": "print(var_dic_list())"
    },
    "r": {
     "delete_cmd_postfix": ") ",
     "delete_cmd_prefix": "rm(",
     "library": "var_list.r",
     "varRefreshCmd": "cat(var_dic_list()) "
    }
   },
   "types_to_exclude": [
    "module",
    "function",
    "builtin_function_or_method",
    "instance",
    "_Feature"
   ],
   "window_display": false
  }
 },
 "nbformat": 4,
 "nbformat_minor": 2
}
